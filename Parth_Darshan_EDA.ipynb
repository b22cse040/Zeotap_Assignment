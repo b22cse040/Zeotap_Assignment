{
  "cells": [
    {
      "cell_type": "markdown",
      "metadata": {
        "id": "oCZYnsM2xAjv"
      },
      "source": [
        "## Importing Libraries and Dataset"
      ]
    },
    {
      "cell_type": "code",
      "execution_count": 1,
      "metadata": {
        "id": "IjVQ3WXSxEZc"
      },
      "outputs": [],
      "source": [
        "import pandas as pd\n",
        "import matplotlib.pyplot as plt\n",
        "\n",
        "# Define the shared links of the datasets\n",
        "customers_url = 'https://drive.google.com/uc?id=1bu_--mo79VdUG9oin4ybfFGRUSXAe-WE'\n",
        "products_url = 'https://drive.google.com/uc?id=1IKuDizVapw-hyktwfpoAoaGtHtTNHfd0'\n",
        "transactions_url = 'https://drive.google.com/uc?id=1saEqdbBB-vuk2hxoAf4TzDEsykdKlzbF'\n",
        "\n",
        "# Load the datasets directly into pandas DataFrames\n",
        "customers_df = pd.read_csv(customers_url)\n",
        "products_df = pd.read_csv(products_url)\n",
        "transactions_df = pd.read_csv(transactions_url)"
      ]
    },
    {
      "cell_type": "code",
      "execution_count": 2,
      "metadata": {
        "colab": {
          "base_uri": "https://localhost:8080/",
          "height": 206
        },
        "id": "yIbsiWN2xcSA",
        "outputId": "8c9dfdb5-424e-4dfd-f820-7d0a643fd714"
      },
      "outputs": [
        {
          "data": {
            "text/html": [
              "<div>\n",
              "<style scoped>\n",
              "    .dataframe tbody tr th:only-of-type {\n",
              "        vertical-align: middle;\n",
              "    }\n",
              "\n",
              "    .dataframe tbody tr th {\n",
              "        vertical-align: top;\n",
              "    }\n",
              "\n",
              "    .dataframe thead th {\n",
              "        text-align: right;\n",
              "    }\n",
              "</style>\n",
              "<table border=\"1\" class=\"dataframe\">\n",
              "  <thead>\n",
              "    <tr style=\"text-align: right;\">\n",
              "      <th></th>\n",
              "      <th>TransactionID</th>\n",
              "      <th>CustomerID</th>\n",
              "      <th>ProductID</th>\n",
              "      <th>TransactionDate</th>\n",
              "      <th>Quantity</th>\n",
              "      <th>TotalValue</th>\n",
              "      <th>Price</th>\n",
              "    </tr>\n",
              "  </thead>\n",
              "  <tbody>\n",
              "    <tr>\n",
              "      <th>0</th>\n",
              "      <td>T00001</td>\n",
              "      <td>C0199</td>\n",
              "      <td>P067</td>\n",
              "      <td>2024-08-25 12:38:23</td>\n",
              "      <td>1</td>\n",
              "      <td>300.68</td>\n",
              "      <td>300.68</td>\n",
              "    </tr>\n",
              "    <tr>\n",
              "      <th>1</th>\n",
              "      <td>T00112</td>\n",
              "      <td>C0146</td>\n",
              "      <td>P067</td>\n",
              "      <td>2024-05-27 22:23:54</td>\n",
              "      <td>1</td>\n",
              "      <td>300.68</td>\n",
              "      <td>300.68</td>\n",
              "    </tr>\n",
              "    <tr>\n",
              "      <th>2</th>\n",
              "      <td>T00166</td>\n",
              "      <td>C0127</td>\n",
              "      <td>P067</td>\n",
              "      <td>2024-04-25 07:38:55</td>\n",
              "      <td>1</td>\n",
              "      <td>300.68</td>\n",
              "      <td>300.68</td>\n",
              "    </tr>\n",
              "    <tr>\n",
              "      <th>3</th>\n",
              "      <td>T00272</td>\n",
              "      <td>C0087</td>\n",
              "      <td>P067</td>\n",
              "      <td>2024-03-26 22:55:37</td>\n",
              "      <td>2</td>\n",
              "      <td>601.36</td>\n",
              "      <td>300.68</td>\n",
              "    </tr>\n",
              "    <tr>\n",
              "      <th>4</th>\n",
              "      <td>T00363</td>\n",
              "      <td>C0070</td>\n",
              "      <td>P067</td>\n",
              "      <td>2024-03-21 15:10:10</td>\n",
              "      <td>3</td>\n",
              "      <td>902.04</td>\n",
              "      <td>300.68</td>\n",
              "    </tr>\n",
              "  </tbody>\n",
              "</table>\n",
              "</div>"
            ],
            "text/plain": [
              "  TransactionID CustomerID ProductID      TransactionDate  Quantity  \\\n",
              "0        T00001      C0199      P067  2024-08-25 12:38:23         1   \n",
              "1        T00112      C0146      P067  2024-05-27 22:23:54         1   \n",
              "2        T00166      C0127      P067  2024-04-25 07:38:55         1   \n",
              "3        T00272      C0087      P067  2024-03-26 22:55:37         2   \n",
              "4        T00363      C0070      P067  2024-03-21 15:10:10         3   \n",
              "\n",
              "   TotalValue   Price  \n",
              "0      300.68  300.68  \n",
              "1      300.68  300.68  \n",
              "2      300.68  300.68  \n",
              "3      601.36  300.68  \n",
              "4      902.04  300.68  "
            ]
          },
          "execution_count": 2,
          "metadata": {},
          "output_type": "execute_result"
        }
      ],
      "source": [
        "transactions_df.head()"
      ]
    },
    {
      "cell_type": "markdown",
      "metadata": {
        "id": "GuRbX6suw-Jf"
      },
      "source": [
        "## Schema"
      ]
    },
    {
      "cell_type": "markdown",
      "metadata": {
        "id": "BYBZ53bBdr8f"
      },
      "source": [
        "Diagram made using Mermaid!"
      ]
    },
    {
      "cell_type": "markdown",
      "metadata": {
        "id": "NIwKTSlHw7O_"
      },
      "source": [
        "![image.png](data:image/png;base64,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)"
      ]
    },
    {
      "cell_type": "code",
      "execution_count": 3,
      "metadata": {
        "colab": {
          "base_uri": "https://localhost:8080/"
        },
        "id": "vz9wk38_w6oD",
        "outputId": "617d7a68-a5f3-4c82-80d0-14e19345c7cf"
      },
      "outputs": [
        {
          "name": "stdout",
          "output_type": "stream",
          "text": [
            "<class 'pandas.core.frame.DataFrame'>\n",
            "RangeIndex: 200 entries, 0 to 199\n",
            "Data columns (total 4 columns):\n",
            " #   Column        Non-Null Count  Dtype \n",
            "---  ------        --------------  ----- \n",
            " 0   CustomerID    200 non-null    object\n",
            " 1   CustomerName  200 non-null    object\n",
            " 2   Region        200 non-null    object\n",
            " 3   SignupDate    200 non-null    object\n",
            "dtypes: object(4)\n",
            "memory usage: 6.4+ KB\n"
          ]
        }
      ],
      "source": [
        "customers_df.info()"
      ]
    },
    {
      "cell_type": "code",
      "execution_count": 4,
      "metadata": {
        "colab": {
          "base_uri": "https://localhost:8080/"
        },
        "id": "i3Iu8YMdyWYM",
        "outputId": "211d73bf-0a66-4ed9-d99f-d004f4d21b2d"
      },
      "outputs": [
        {
          "name": "stdout",
          "output_type": "stream",
          "text": [
            "<class 'pandas.core.frame.DataFrame'>\n",
            "RangeIndex: 100 entries, 0 to 99\n",
            "Data columns (total 4 columns):\n",
            " #   Column       Non-Null Count  Dtype  \n",
            "---  ------       --------------  -----  \n",
            " 0   ProductID    100 non-null    object \n",
            " 1   ProductName  100 non-null    object \n",
            " 2   Category     100 non-null    object \n",
            " 3   Price        100 non-null    float64\n",
            "dtypes: float64(1), object(3)\n",
            "memory usage: 3.3+ KB\n"
          ]
        }
      ],
      "source": [
        "products_df.info()"
      ]
    },
    {
      "cell_type": "code",
      "execution_count": 5,
      "metadata": {
        "colab": {
          "base_uri": "https://localhost:8080/"
        },
        "id": "ZcrX_uCeyZkP",
        "outputId": "b6fee10b-19f1-4689-9f15-72db658c1e87"
      },
      "outputs": [
        {
          "name": "stdout",
          "output_type": "stream",
          "text": [
            "<class 'pandas.core.frame.DataFrame'>\n",
            "RangeIndex: 1000 entries, 0 to 999\n",
            "Data columns (total 7 columns):\n",
            " #   Column           Non-Null Count  Dtype  \n",
            "---  ------           --------------  -----  \n",
            " 0   TransactionID    1000 non-null   object \n",
            " 1   CustomerID       1000 non-null   object \n",
            " 2   ProductID        1000 non-null   object \n",
            " 3   TransactionDate  1000 non-null   object \n",
            " 4   Quantity         1000 non-null   int64  \n",
            " 5   TotalValue       1000 non-null   float64\n",
            " 6   Price            1000 non-null   float64\n",
            "dtypes: float64(2), int64(1), object(4)\n",
            "memory usage: 54.8+ KB\n"
          ]
        }
      ],
      "source": [
        "transactions_df.info()"
      ]
    },
    {
      "cell_type": "markdown",
      "metadata": {
        "id": "omsM3E6wyfPU"
      },
      "source": [
        "From the .info() function on all the tables indicated there are no null values in the dataset.. so no need to impute with any value.."
      ]
    },
    {
      "cell_type": "code",
      "execution_count": 6,
      "metadata": {
        "colab": {
          "base_uri": "https://localhost:8080/"
        },
        "id": "GYSXZwfYyn0t",
        "outputId": "e289c88e-7c7b-4f2a-8aa5-da3862f844f7"
      },
      "outputs": [
        {
          "name": "stdout",
          "output_type": "stream",
          "text": [
            "Total categories of Products: 4\n",
            "Total number of Regions: 4\n"
          ]
        }
      ],
      "source": [
        "print(f\"Total categories of Products: {products_df['Category'].nunique()}\")\n",
        "print(f\"Total number of Regions: {customers_df['Region'].nunique()}\")"
      ]
    },
    {
      "cell_type": "markdown",
      "metadata": {
        "id": "huAo-SP31SWR"
      },
      "source": [
        "## Business Insights"
      ]
    },
    {
      "cell_type": "markdown",
      "metadata": {
        "id": "_rQogIoJ1bUw"
      },
      "source": [
        "### Finding the top 5 most frequently sold products in each region\n"
      ]
    },
    {
      "cell_type": "markdown",
      "metadata": {
        "id": "FLdRb1QZ4U9K"
      },
      "source": [
        "\n",
        "1. **Global Product Trends**: Electronics like \"SoundWave Headphones\" and \"ActiveWear Smartwatch\" are universally popular, along with Books, reflecting consistent customer interest across regions.  \n",
        "\n",
        "2. **Regional Preferences**:\n",
        "- Asia prefers a mix of Clothing and Electronics\n",
        "- Europe favors Home Decor and Books\n",
        "- North America leans toward Electronics\n",
        "- South America balances Electronics, Books, and Home Decor."
      ]
    },
    {
      "cell_type": "code",
      "execution_count": 7,
      "metadata": {
        "colab": {
          "base_uri": "https://localhost:8080/"
        },
        "id": "hgOQZfEOzRkJ",
        "outputId": "b4ce4e6a-ad98-4b5a-ffdc-94a41a03df27"
      },
      "outputs": [
        {
          "name": "stdout",
          "output_type": "stream",
          "text": [
            "            Region              ProductName     Category  Sales\n",
            "12            Asia      BookWorld Biography        Books      9\n",
            "39            Asia        HomeSense T-Shirt     Clothing      9\n",
            "8             Asia    ActiveWear Smartwatch  Electronics      8\n",
            "44            Asia     SoundWave Headphones  Electronics      8\n",
            "4             Asia        ActiveWear Jacket     Clothing      7\n",
            "67          Europe           ActiveWear Rug   Home Decor     12\n",
            "106         Europe     SoundWave Headphones  Electronics     12\n",
            "121         Europe         TechPro Textbook        Books      9\n",
            "76          Europe       BookWorld Cookbook        Books      8\n",
            "70          Europe    ActiveWear Smartwatch  Electronics      7\n",
            "170  North America     SoundWave Headphones  Electronics     13\n",
            "132  North America    ActiveWear Smartwatch  Electronics     10\n",
            "136  North America      BookWorld Biography        Books      9\n",
            "146  North America  ComfortLiving Biography        Books      8\n",
            "184  North America          TechPro T-Shirt     Clothing      8\n",
            "196  South America    ActiveWear Smartwatch  Electronics     15\n",
            "198  South America      ActiveWear Textbook        Books     13\n",
            "231  South America       SoundWave Cookbook        Books     11\n",
            "189  South America  ActiveWear Cookware Set   Home Decor     10\n",
            "222  South America      HomeSense Desk Lamp   Home Decor     10\n"
          ]
        }
      ],
      "source": [
        "### Finding the top 5 sold products in each region\n",
        "\n",
        "merged_df = transactions_df.merge(customers_df, on=\"CustomerID\").merge(products_df, on=\"ProductID\")\n",
        "region_product_sales = merged_df.groupby(['Region', 'ProductName', 'Category']).size().reset_index(name='Sales')\n",
        "sorted_sales = region_product_sales.sort_values(['Region', 'Sales'], ascending=[True, False])\n",
        "top_5_products = sorted_sales.groupby('Region').head(5)\n",
        "\n",
        "print(top_5_products)"
      ]
    },
    {
      "cell_type": "markdown",
      "metadata": {
        "id": "bnXiAd-822ws"
      },
      "source": [
        "### What 5 months had the most sales?"
      ]
    },
    {
      "cell_type": "code",
      "execution_count": 8,
      "metadata": {
        "colab": {
          "base_uri": "https://localhost:8080/",
          "height": 492
        },
        "id": "vH9S_fem2_uM",
        "outputId": "887951d0-48a0-4dbf-cdfa-24b2b7bdd0b4"
      },
      "outputs": [
        {
          "data": {
            "image/png": "[encoded data removed]",
            "text/plain": [
              "<Figure size 1000x600 with 1 Axes>"
            ]
          },
          "metadata": {},
          "output_type": "display_data"
        }
      ],
      "source": [
        "transactions_df['TransactionDate'] = pd.to_datetime(transactions_df['TransactionDate'])\n",
        "transactions_df['YearMonth'] = transactions_df['TransactionDate'].dt.to_period('M')\n",
        "monthly_sales = transactions_df.groupby('YearMonth')['TotalValue'].sum().reset_index()\n",
        "\n",
        "# Plotting the sales vs month histogram\n",
        "plt.figure(figsize=(10, 6))\n",
        "plt.bar(monthly_sales['YearMonth'].astype(str), monthly_sales['TotalValue'], color='skyblue')\n",
        "\n",
        "# Adding labels and title\n",
        "plt.xlabel('Month', fontsize=12)\n",
        "plt.ylabel('Total Sales Value', fontsize=12)\n",
        "plt.title('Sales vs Month', fontsize=14)\n",
        "plt.xticks(rotation=45)\n",
        "plt.tight_layout()\n",
        "\n",
        "# Show the plot\n",
        "plt.show()"
      ]
    },
    {
      "cell_type": "code",
      "execution_count": 9,
      "metadata": {
        "colab": {
          "base_uri": "https://localhost:8080/",
          "height": 206
        },
        "id": "uliojJY64YkS",
        "outputId": "5a04b160-7134-480d-ceee-9869dad2af52"
      },
      "outputs": [
        {
          "data": {
            "text/html": [
              "<div>\n",
              "<style scoped>\n",
              "    .dataframe tbody tr th:only-of-type {\n",
              "        vertical-align: middle;\n",
              "    }\n",
              "\n",
              "    .dataframe tbody tr th {\n",
              "        vertical-align: top;\n",
              "    }\n",
              "\n",
              "    .dataframe thead th {\n",
              "        text-align: right;\n",
              "    }\n",
              "</style>\n",
              "<table border=\"1\" class=\"dataframe\">\n",
              "  <thead>\n",
              "    <tr style=\"text-align: right;\">\n",
              "      <th></th>\n",
              "      <th>YearMonth</th>\n",
              "      <th>TotalValue</th>\n",
              "    </tr>\n",
              "  </thead>\n",
              "  <tbody>\n",
              "    <tr>\n",
              "      <th>7</th>\n",
              "      <td>2024-07</td>\n",
              "      <td>71366.39</td>\n",
              "    </tr>\n",
              "    <tr>\n",
              "      <th>9</th>\n",
              "      <td>2024-09</td>\n",
              "      <td>70603.75</td>\n",
              "    </tr>\n",
              "    <tr>\n",
              "      <th>1</th>\n",
              "      <td>2024-01</td>\n",
              "      <td>66376.39</td>\n",
              "    </tr>\n",
              "    <tr>\n",
              "      <th>5</th>\n",
              "      <td>2024-05</td>\n",
              "      <td>64527.74</td>\n",
              "    </tr>\n",
              "    <tr>\n",
              "      <th>8</th>\n",
              "      <td>2024-08</td>\n",
              "      <td>63436.74</td>\n",
              "    </tr>\n",
              "  </tbody>\n",
              "</table>\n",
              "</div>"
            ],
            "text/plain": [
              "  YearMonth  TotalValue\n",
              "7   2024-07    71366.39\n",
              "9   2024-09    70603.75\n",
              "1   2024-01    66376.39\n",
              "5   2024-05    64527.74\n",
              "8   2024-08    63436.74"
            ]
          },
          "execution_count": 9,
          "metadata": {},
          "output_type": "execute_result"
        }
      ],
      "source": [
        "top_5_sales_month = monthly_sales.sort_values(['TotalValue'], ascending=False).head(5)\n",
        "top_5_sales_month"
      ]
    },
    {
      "cell_type": "markdown",
      "metadata": {
        "id": "wenqSaAe40hV"
      },
      "source": [
        "The third quarter of year 2024 had the most sales, with the top 2 monthly sales were done in the month July and September respectively."
      ]
    },
    {
      "cell_type": "markdown",
      "metadata": {
        "id": "B4TDjNL85OPz"
      },
      "source": [
        "### Most Loyal Customers"
      ]
    },
    {
      "cell_type": "code",
      "execution_count": 10,
      "metadata": {
        "colab": {
          "base_uri": "https://localhost:8080/"
        },
        "id": "w0jJZjtJ9eQ_",
        "outputId": "b187b683-fa35-4e94-9503-19048fedc805"
      },
      "outputs": [
        {
          "name": "stdout",
          "output_type": "stream",
          "text": [
            "Top 10 money-spending customers with names:\n",
            "  CustomerID  TotalValue          CustomerName         Region\n",
            "0      C0141    10673.87          Paul Parsons         Europe\n",
            "1      C0054     8040.39          Bruce Rhodes           Asia\n",
            "2      C0065     7663.70          Gerald Hines  North America\n",
            "3      C0156     7634.45         William Adams  North America\n",
            "4      C0082     7572.91          Aimee Taylor  South America\n",
            "5      C0188     7111.32             Anna Ball  South America\n",
            "6      C0059     7073.28  Mrs. Kimberly Wright  North America\n",
            "7      C0028     6819.57         Jennifer Pena           Asia\n",
            "8      C0099     6715.72          Rodney Eaton  South America\n",
            "9      C0165     6708.10         Juan Mcdaniel  South America\n"
          ]
        }
      ],
      "source": [
        "customer_spending = merged_df.groupby('CustomerID')['TotalValue'].sum().reset_index()\n",
        "top_10_customers = customer_spending.sort_values(by='TotalValue', ascending=False).head(10)\n",
        "top_10_customers_with_names = top_10_customers.merge(customers_df[['CustomerID', 'CustomerName', 'Region']], on='CustomerID')\n",
        "\n",
        "print(\"Top 10 money-spending customers with names:\")\n",
        "print(top_10_customers_with_names)"
      ]
    },
    {
      "cell_type": "markdown",
      "metadata": {
        "id": "IZsndYcwcLcQ"
      },
      "source": [
        "## EDA"
      ]
    },
    {
      "cell_type": "code",
      "execution_count": 11,
      "metadata": {
        "colab": {
          "base_uri": "https://localhost:8080/"
        },
        "id": "Jz55jS81cNc0",
        "outputId": "27ffbb62-d856-4a1e-c384-d458ea5ac2f4"
      },
      "outputs": [
        {
          "name": "stdout",
          "output_type": "stream",
          "text": [
            "<class 'pandas.core.frame.DataFrame'>\n",
            "RangeIndex: 1000 entries, 0 to 999\n",
            "Data columns (total 14 columns):\n",
            " #   Column           Non-Null Count  Dtype         \n",
            "---  ------           --------------  -----         \n",
            " 0   CustomerID       1000 non-null   object        \n",
            " 1   CustomerName     1000 non-null   object        \n",
            " 2   Region           1000 non-null   object        \n",
            " 3   SignupDate       1000 non-null   object        \n",
            " 4   TransactionID    1000 non-null   object        \n",
            " 5   ProductID        1000 non-null   object        \n",
            " 6   TransactionDate  1000 non-null   datetime64[ns]\n",
            " 7   Quantity         1000 non-null   int64         \n",
            " 8   TotalValue       1000 non-null   float64       \n",
            " 9   Price_x          1000 non-null   float64       \n",
            " 10  YearMonth        1000 non-null   period[M]     \n",
            " 11  ProductName      1000 non-null   object        \n",
            " 12  Category         1000 non-null   object        \n",
            " 13  Price_y          1000 non-null   float64       \n",
            "dtypes: datetime64[ns](1), float64(3), int64(1), object(8), period[M](1)\n",
            "memory usage: 109.5+ KB\n"
          ]
        }
      ],
      "source": [
        "merged_df = customers_df.merge(transactions_df, on=\"CustomerID\").merge(products_df, on=\"ProductID\")\n",
        "merged_df.info()"
      ]
    },
    {
      "cell_type": "code",
      "execution_count": 12,
      "metadata": {
        "colab": {
          "base_uri": "https://localhost:8080/"
        },
        "id": "2203CKgqcfYQ",
        "outputId": "9bf010ba-10bd-49f1-8026-d4c2411f23f5"
      },
      "outputs": [
        {
          "name": "stdout",
          "output_type": "stream",
          "text": [
            "    CustomerID         Region  TransactionValue\n",
            "0        C0001  South America           3354.52\n",
            "1        C0002           Asia           1862.74\n",
            "2        C0003  South America           2725.38\n",
            "3        C0004  South America           5354.88\n",
            "4        C0005           Asia           2034.24\n",
            "..         ...            ...               ...\n",
            "194      C0196         Europe           4982.88\n",
            "195      C0197         Europe           1928.65\n",
            "196      C0198         Europe            931.83\n",
            "197      C0199         Europe           1979.28\n",
            "198      C0200           Asia           4758.60\n",
            "\n",
            "[199 rows x 3 columns]\n"
          ]
        }
      ],
      "source": [
        "df = merged_df.groupby(['CustomerID', 'Region']).agg(\n",
        "    TransactionValue=('TotalValue', 'sum')\n",
        ").reset_index()\n",
        "\n",
        "# Display the resulting DataFrame\n",
        "print(df)"
      ]
    },
    {
      "cell_type": "code",
      "execution_count": 13,
      "metadata": {
        "colab": {
          "base_uri": "https://localhost:8080/"
        },
        "id": "pmb1PXEkdXtK",
        "outputId": "6a4e89db-6407-4a96-9941-12106033f9e1"
      },
      "outputs": [
        {
          "name": "stdout",
          "output_type": "stream",
          "text": [
            "<class 'pandas.core.frame.DataFrame'>\n",
            "RangeIndex: 199 entries, 0 to 198\n",
            "Data columns (total 3 columns):\n",
            " #   Column            Non-Null Count  Dtype  \n",
            "---  ------            --------------  -----  \n",
            " 0   CustomerID        199 non-null    object \n",
            " 1   Region            199 non-null    object \n",
            " 2   TransactionValue  199 non-null    float64\n",
            "dtypes: float64(1), object(2)\n",
            "memory usage: 4.8+ KB\n"
          ]
        }
      ],
      "source": [
        "df.info()"
      ]
    },
    {
      "cell_type": "markdown",
      "metadata": {
        "id": "NhNwZ1G5d0ps"
      },
      "source": [
        "For Region, we will apply get_dummies() function, since these are categorical and for TransactionValue we will apply Standard Scaler"
      ]
    },
    {
      "cell_type": "code",
      "execution_count": 14,
      "metadata": {
        "colab": {
          "base_uri": "https://localhost:8080/",
          "height": 441
        },
        "id": "mjsv65QSdZ33",
        "outputId": "ca3f0d41-8ba3-4623-86bc-b09ab5879c9d"
      },
      "outputs": [
        {
          "data": {
            "text/html": [
              "<div>\n",
              "<style scoped>\n",
              "    .dataframe tbody tr th:only-of-type {\n",
              "        vertical-align: middle;\n",
              "    }\n",
              "\n",
              "    .dataframe tbody tr th {\n",
              "        vertical-align: top;\n",
              "    }\n",
              "\n",
              "    .dataframe thead th {\n",
              "        text-align: right;\n",
              "    }\n",
              "</style>\n",
              "<table border=\"1\" class=\"dataframe\">\n",
              "  <thead>\n",
              "    <tr style=\"text-align: right;\">\n",
              "      <th></th>\n",
              "      <th>CustomerID</th>\n",
              "      <th>TransactionValue</th>\n",
              "      <th>Region_Asia</th>\n",
              "      <th>Region_Europe</th>\n",
              "      <th>Region_North America</th>\n",
              "      <th>Region_South America</th>\n",
              "    </tr>\n",
              "  </thead>\n",
              "  <tbody>\n",
              "    <tr>\n",
              "      <th>0</th>\n",
              "      <td>C0001</td>\n",
              "      <td>3354.52</td>\n",
              "      <td>False</td>\n",
              "      <td>False</td>\n",
              "      <td>False</td>\n",
              "      <td>True</td>\n",
              "    </tr>\n",
              "    <tr>\n",
              "      <th>1</th>\n",
              "      <td>C0002</td>\n",
              "      <td>1862.74</td>\n",
              "      <td>True</td>\n",
              "      <td>False</td>\n",
              "      <td>False</td>\n",
              "      <td>False</td>\n",
              "    </tr>\n",
              "    <tr>\n",
              "      <th>2</th>\n",
              "      <td>C0003</td>\n",
              "      <td>2725.38</td>\n",
              "      <td>False</td>\n",
              "      <td>False</td>\n",
              "      <td>False</td>\n",
              "      <td>True</td>\n",
              "    </tr>\n",
              "    <tr>\n",
              "      <th>3</th>\n",
              "      <td>C0004</td>\n",
              "      <td>5354.88</td>\n",
              "      <td>False</td>\n",
              "      <td>False</td>\n",
              "      <td>False</td>\n",
              "      <td>True</td>\n",
              "    </tr>\n",
              "    <tr>\n",
              "      <th>4</th>\n",
              "      <td>C0005</td>\n",
              "      <td>2034.24</td>\n",
              "      <td>True</td>\n",
              "      <td>False</td>\n",
              "      <td>False</td>\n",
              "      <td>False</td>\n",
              "    </tr>\n",
              "    <tr>\n",
              "      <th>...</th>\n",
              "      <td>...</td>\n",
              "      <td>...</td>\n",
              "      <td>...</td>\n",
              "      <td>...</td>\n",
              "      <td>...</td>\n",
              "      <td>...</td>\n",
              "    </tr>\n",
              "    <tr>\n",
              "      <th>194</th>\n",
              "      <td>C0196</td>\n",
              "      <td>4982.88</td>\n",
              "      <td>False</td>\n",
              "      <td>True</td>\n",
              "      <td>False</td>\n",
              "      <td>False</td>\n",
              "    </tr>\n",
              "    <tr>\n",
              "      <th>195</th>\n",
              "      <td>C0197</td>\n",
              "      <td>1928.65</td>\n",
              "      <td>False</td>\n",
              "      <td>True</td>\n",
              "      <td>False</td>\n",
              "      <td>False</td>\n",
              "    </tr>\n",
              "    <tr>\n",
              "      <th>196</th>\n",
              "      <td>C0198</td>\n",
              "      <td>931.83</td>\n",
              "      <td>False</td>\n",
              "      <td>True</td>\n",
              "      <td>False</td>\n",
              "      <td>False</td>\n",
              "    </tr>\n",
              "    <tr>\n",
              "      <th>197</th>\n",
              "      <td>C0199</td>\n",
              "      <td>1979.28</td>\n",
              "      <td>False</td>\n",
              "      <td>True</td>\n",
              "      <td>False</td>\n",
              "      <td>False</td>\n",
              "    </tr>\n",
              "    <tr>\n",
              "      <th>198</th>\n",
              "      <td>C0200</td>\n",
              "      <td>4758.60</td>\n",
              "      <td>True</td>\n",
              "      <td>False</td>\n",
              "      <td>False</td>\n",
              "      <td>False</td>\n",
              "    </tr>\n",
              "  </tbody>\n",
              "</table>\n",
              "<p>199 rows × 6 columns</p>\n",
              "</div>"
            ],
            "text/plain": [
              "    CustomerID  TransactionValue  Region_Asia  Region_Europe  \\\n",
              "0        C0001           3354.52        False          False   \n",
              "1        C0002           1862.74         True          False   \n",
              "2        C0003           2725.38        False          False   \n",
              "3        C0004           5354.88        False          False   \n",
              "4        C0005           2034.24         True          False   \n",
              "..         ...               ...          ...            ...   \n",
              "194      C0196           4982.88        False           True   \n",
              "195      C0197           1928.65        False           True   \n",
              "196      C0198            931.83        False           True   \n",
              "197      C0199           1979.28        False           True   \n",
              "198      C0200           4758.60         True          False   \n",
              "\n",
              "     Region_North America  Region_South America  \n",
              "0                   False                  True  \n",
              "1                   False                 False  \n",
              "2                   False                  True  \n",
              "3                   False                  True  \n",
              "4                   False                 False  \n",
              "..                    ...                   ...  \n",
              "194                 False                 False  \n",
              "195                 False                 False  \n",
              "196                 False                 False  \n",
              "197                 False                 False  \n",
              "198                 False                 False  \n",
              "\n",
              "[199 rows x 6 columns]"
            ]
          },
          "execution_count": 14,
          "metadata": {},
          "output_type": "execute_result"
        }
      ],
      "source": [
        "df = pd.get_dummies(df, columns=['Region'])\n",
        "df"
      ]
    },
    {
      "cell_type": "code",
      "execution_count": 15,
      "metadata": {
        "colab": {
          "base_uri": "https://localhost:8080/",
          "height": 441
        },
        "id": "yJXEUsdjfQnJ",
        "outputId": "7f1dc25f-8628-4574-fc47-b85be491eaa7"
      },
      "outputs": [],
      "source": [
        "from sklearn.preprocessing import StandardScaler\n",
        "scaler = StandardScaler()\n",
        "\n",
        "# df['TransactionValue'] = scaler.fit_transform(df[['TransactionValue']])\n",
        "# df"
      ]
    },
    {
      "cell_type": "code",
      "execution_count": 16,
      "metadata": {
        "id": "5DuL3JuvfIiM"
      },
      "outputs": [],
      "source": [
        "df.to_csv('final.csv', index=False)"
      ]
    }
  ],
  "metadata": {
    "colab": {
      "provenance": []
    },
    "kernelspec": {
      "display_name": "Python 3",
      "name": "python3"
    },
    "language_info": {
      "codemirror_mode": {
        "name": "ipython",
        "version": 3
      },
      "file_extension": ".py",
      "mimetype": "text/x-python",
      "name": "python",
      "nbconvert_exporter": "python",
      "pygments_lexer": "ipython3",
      "version": "3.12.2"
    }
  },
  "nbformat": 4,
  "nbformat_minor": 0
}
